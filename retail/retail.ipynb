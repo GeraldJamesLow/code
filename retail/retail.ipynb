{
 "cells": [
  {
   "cell_type": "markdown",
   "metadata": {},
   "source": [
    "#### Import Packages"
   ]
  },
  {
   "cell_type": "code",
   "execution_count": 29,
   "metadata": {},
   "outputs": [],
   "source": [
    "# dataset retrieved from https://archive.ics.uci.edu/dataset/352/online+retail\n",
    "import pandas as pd\n",
    "import numpy as np"
   ]
  },
  {
   "cell_type": "markdown",
   "metadata": {},
   "source": [
    "#### Import Data"
   ]
  },
  {
   "cell_type": "code",
   "execution_count": 30,
   "metadata": {},
   "outputs": [
    {
     "name": "stderr",
     "output_type": "stream",
     "text": [
      "/var/folders/xz/hvt4xjsx52d4vvbdqkszth7h0000gn/T/ipykernel_5613/2940126086.py:3: UserWarning: Could not infer format, so each element will be parsed individually, falling back to `dateutil`. To ensure parsing is consistent and as-expected, please specify a format.\n",
      "  df = pd.read_csv(file_path,\n"
     ]
    },
    {
     "name": "stdout",
     "output_type": "stream",
     "text": [
      "<class 'pandas.core.frame.DataFrame'>\n",
      "RangeIndex: 541909 entries, 0 to 541908\n",
      "Data columns (total 8 columns):\n",
      " #   Column       Non-Null Count   Dtype         \n",
      "---  ------       --------------   -----         \n",
      " 0   InvoiceNo    541909 non-null  object        \n",
      " 1   StockCode    541909 non-null  object        \n",
      " 2   Description  540455 non-null  object        \n",
      " 3   Quantity     541909 non-null  int64         \n",
      " 4   InvoiceDate  541909 non-null  datetime64[ns]\n",
      " 5   UnitPrice    541909 non-null  float64       \n",
      " 6   CustomerID   406829 non-null  float64       \n",
      " 7   Country      541909 non-null  object        \n",
      "dtypes: datetime64[ns](1), float64(2), int64(1), object(4)\n",
      "memory usage: 33.1+ MB\n",
      "None\n"
     ]
    }
   ],
   "source": [
    "file_path = \"data/Online_Retail.csv\"\n",
    "\n",
    "df = pd.read_csv(file_path,\n",
    "                 header= 0,\n",
    "                #  nrows= 5,\n",
    "                 parse_dates= [\"InvoiceDate\"]\n",
    "                 )\n",
    "\n",
    "print(df.info())\n"
   ]
  },
  {
   "cell_type": "markdown",
   "metadata": {},
   "source": [
    "#### Account for null values\n",
    "- 1454 values in description (dropped)\n",
    "- 135,080 values in CustomerID, likely guests\n",
    "\n",
    "540,455 rows left after dropping NA values in description"
   ]
  },
  {
   "cell_type": "code",
   "execution_count": 54,
   "metadata": {},
   "outputs": [
    {
     "name": "stdout",
     "output_type": "stream",
     "text": [
      "Number of NA values in each column:\n",
      "InvoiceNo           0\n",
      "StockCode           0\n",
      "Description         0\n",
      "Quantity            0\n",
      "InvoiceDate         0\n",
      "UnitPrice           0\n",
      "CustomerID     133626\n",
      "Country             0\n",
      "dtype: int64\n",
      "Total number of NA values in the DataFrame: 133626\n",
      "InvoiceNo           0\n",
      "StockCode           0\n",
      "Description         0\n",
      "Quantity            0\n",
      "InvoiceDate         0\n",
      "UnitPrice           0\n",
      "CustomerID     133626\n",
      "Country             0\n",
      "dtype: int64\n"
     ]
    }
   ],
   "source": [
    "print(\"Number of NA values in each column:\")\n",
    "print(df.isna().sum())\n",
    "\n",
    "total_na = df.isna().sum().sum()\n",
    "print(f\"Total number of NA values in the DataFrame: {total_na}\")\n",
    "\n",
    "# drop rows without descriptions\n",
    "df = df.dropna(subset=['Description'])\n",
    "\n",
    "print(df.isna().sum())\n",
    "# print(len(df))"
   ]
  },
  {
   "cell_type": "markdown",
   "metadata": {},
   "source": [
    "#### Split Dataset\n",
    "- valid_sales (531167 rows)\n",
    "- cancellations (9288 rows)\n"
   ]
  },
  {
   "cell_type": "code",
   "execution_count": 46,
   "metadata": {},
   "outputs": [],
   "source": [
    "# sort valid sales from cancellations based on the starting 'C'\n",
    "valid_sales = df[~df['InvoiceNo'].str.startswith('C')] # ~ is the bitwise NOT operator\n",
    "cancellations = df[df['InvoiceNo'].str.startswith('C')]\n",
    "\n",
    "# print(len(valid_sales))\n",
    "# print(len(cancellations))"
   ]
  },
  {
   "cell_type": "markdown",
   "metadata": {},
   "source": [
    "#### Valid Sales"
   ]
  },
  {
   "cell_type": "code",
   "execution_count": 55,
   "metadata": {},
   "outputs": [],
   "source": [
    "# print(cancellations[cancellations['StockCode'].str.len() < 5])\n",
    "# print(valid_sales[valid_sales['StockCode'].str.len() < 5])"
   ]
  },
  {
   "cell_type": "markdown",
   "metadata": {},
   "source": [
    "#### Cleaning valid_sales\n",
    "- Items with quantities of 0 or less removed / 474 removed\n",
    "- Items with StockCode describing postage e.g. POST, M etc. removed / 2,312 removed\n",
    "- Items with invalid price (£0 or less) removed / 578 removed\n",
    "\n",
    "527,803 rows left"
   ]
  },
  {
   "cell_type": "code",
   "execution_count": 56,
   "metadata": {},
   "outputs": [
    {
     "name": "stdout",
     "output_type": "stream",
     "text": [
      "527803 rows before cleaning\n",
      "527803 rows after cleaning\n"
     ]
    }
   ],
   "source": [
    "# print(valid_sales.info())\n",
    "print(len(valid_sales), \"rows before cleaning\") # 531,167 rows initially\n",
    "valid_sales = valid_sales[valid_sales['Quantity'] >= 1] # keep valid quantities / removed 474 rows\n",
    "# print(len(valid_sales)) # 530,693 rows left\n",
    "valid_sales = valid_sales[valid_sales['StockCode'].str.len() >= 5] # keep stockcodes for valid items / removed 2312 rows\n",
    "# print(len(valid_sales)) # 528,381 rows left\n",
    "valid_sales = valid_sales[valid_sales['UnitPrice'] > 0] # remove any items with price £0 or less / 578 removed\n",
    "# print(len(valid_sales)) # 527,803 rows left\n",
    "\n",
    "print(len(valid_sales), \"rows after cleaning\") # 527,803 rows left"
   ]
  }
 ],
 "metadata": {
  "kernelspec": {
   "display_name": "datasci",
   "language": "python",
   "name": "python3"
  },
  "language_info": {
   "codemirror_mode": {
    "name": "ipython",
    "version": 3
   },
   "file_extension": ".py",
   "mimetype": "text/x-python",
   "name": "python",
   "nbconvert_exporter": "python",
   "pygments_lexer": "ipython3",
   "version": "3.10.13"
  }
 },
 "nbformat": 4,
 "nbformat_minor": 2
}
