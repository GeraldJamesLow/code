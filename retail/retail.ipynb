{
 "cells": [
  {
   "cell_type": "code",
   "execution_count": 1,
   "metadata": {},
   "outputs": [],
   "source": [
    "# dataset retrieved from https://archive.ics.uci.edu/dataset/352/online+retail\n",
    "import pandas as pd\n",
    "import numpy as np"
   ]
  },
  {
   "cell_type": "code",
   "execution_count": 20,
   "metadata": {},
   "outputs": [
    {
     "name": "stdout",
     "output_type": "stream",
     "text": [
      "<class 'pandas.core.frame.DataFrame'>\n",
      "RangeIndex: 541909 entries, 0 to 541908\n",
      "Data columns (total 8 columns):\n",
      " #   Column       Non-Null Count   Dtype         \n",
      "---  ------       --------------   -----         \n",
      " 0   InvoiceNo    541909 non-null  object        \n",
      " 1   StockCode    541909 non-null  object        \n",
      " 2   Description  540455 non-null  object        \n",
      " 3   Quantity     541909 non-null  int64         \n",
      " 4   InvoiceDate  541909 non-null  datetime64[ns]\n",
      " 5   UnitPrice    541909 non-null  float64       \n",
      " 6   CustomerID   406829 non-null  float64       \n",
      " 7   Country      541909 non-null  object        \n",
      "dtypes: datetime64[ns](1), float64(2), int64(1), object(4)\n",
      "memory usage: 33.1+ MB\n",
      "None\n"
     ]
    }
   ],
   "source": [
    "file_path = \"data/Online_Retail.csv\"\n",
    "\n",
    "df = pd.read_csv(file_path,\n",
    "                 header= 0,\n",
    "                #  nrows= 5,\n",
    "                 parse_dates= [\"InvoiceDate\"]\n",
    "                 )\n",
    "\n",
    "print(df.info())\n",
    "\n",
    "# print(df.iloc[141])\n"
   ]
  },
  {
   "cell_type": "markdown",
   "metadata": {},
   "source": [
    "## Sanity check for null values"
   ]
  },
  {
   "cell_type": "code",
   "execution_count": 32,
   "metadata": {},
   "outputs": [
    {
     "name": "stdout",
     "output_type": "stream",
     "text": [
      "Number of NA values in each column:\n",
      "InvoiceNo           0\n",
      "StockCode           0\n",
      "Description         0\n",
      "Quantity            0\n",
      "InvoiceDate         0\n",
      "UnitPrice           0\n",
      "CustomerID     133626\n",
      "Country             0\n",
      "dtype: int64\n",
      "Total number of NA values in the DataFrame: 133626\n"
     ]
    }
   ],
   "source": [
    "print(\"Number of NA values in each column:\")\n",
    "print(df.isna().sum())\n",
    "\n",
    "total_na = df.isna().sum().sum()\n",
    "print(f\"Total number of NA values in the DataFrame: {total_na}\")\n",
    "\n",
    "# drop rows without descriptions\n",
    "df = df.dropna(subset=['Description']) "
   ]
  },
  {
   "cell_type": "markdown",
   "metadata": {},
   "source": [
    "- 1454 rows without description (dropped)\n",
    "- 135080 rows without CustomerID"
   ]
  },
  {
   "cell_type": "code",
   "execution_count": 36,
   "metadata": {},
   "outputs": [
    {
     "name": "stdout",
     "output_type": "stream",
     "text": [
      "There are 0 nonpositive values\n",
      "0 nonpositive values dropped\n"
     ]
    }
   ],
   "source": [
    "nonpositive_count = (df[\"Quantity\"] <= 0).sum()\n",
    "print(f\"There are {nonpositive_count} nonpositive values\") # 9762 items with \"Quantity\" of 0 or less\n",
    "\n",
    "df = df[df[\"Quantity\"] > 0] # Drop nonpositive rows\n",
    "df.reset_index(drop=True, inplace=True) # account for index of dropped rows\n",
    "print(f\"{nonpositive_count} nonpositive values dropped\")"
   ]
  }
 ],
 "metadata": {
  "kernelspec": {
   "display_name": "base",
   "language": "python",
   "name": "python3"
  },
  "language_info": {
   "codemirror_mode": {
    "name": "ipython",
    "version": 3
   },
   "file_extension": ".py",
   "mimetype": "text/x-python",
   "name": "python",
   "nbconvert_exporter": "python",
   "pygments_lexer": "ipython3",
   "version": "3.9.13"
  }
 },
 "nbformat": 4,
 "nbformat_minor": 2
}
