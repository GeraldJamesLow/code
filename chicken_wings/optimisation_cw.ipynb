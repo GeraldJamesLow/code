{
 "cells": [
  {
   "cell_type": "code",
   "execution_count": 1,
   "metadata": {},
   "outputs": [],
   "source": [
    "import numpy as np\n",
    "import pandas as pd\n",
    "import matplotlib.pyplot as plt"
   ]
  },
  {
   "cell_type": "code",
   "execution_count": 32,
   "metadata": {},
   "outputs": [
    {
     "name": "stdout",
     "output_type": "stream",
     "text": [
      "    Quantity   Cost\n",
      "35        90  10045\n",
      "36       100  11125\n",
      "37       125  13900\n",
      "38       150  16685\n",
      "39       200  22250\n"
     ]
    }
   ],
   "source": [
    "file_path = 'data/Chicken_Wings.csv'\n",
    "\n",
    "df = pd.read_csv(file_path,\n",
    "                 usecols=[0,1],\n",
    "                 skiprows=1, #* skip symbols, header is inferred as 2nd row\n",
    "                 )\n",
    "\n",
    "print(df.tail())"
   ]
  },
  {
   "cell_type": "code",
   "execution_count": 39,
   "metadata": {},
   "outputs": [],
   "source": [
    "def optimalOrder(desired_chicken_wings: int, df: pd.DataFrame):\n",
    "    #* convert qty, cost, to numpy arrays of integers\n",
    "    quantities, costs = df[\"Quantity\"].to_numpy().astype(int), df[\"Cost\"].to_numpy().astype(int)\n",
    "    cw_count = desired_chicken_wings\n",
    "    solved_cache = {}\n",
    "    order = []\n",
    "    \n",
    "    def partition(count):\n",
    "        if count < 4:\n",
    "            return None\n",
    "        \n",
    "        if count in solved_cache:\n",
    "            return solved_cache[count]\n",
    "        \n",
    "        partitions = []\n",
    "\n",
    "        \n",
    "    "
   ]
  },
  {
   "cell_type": "code",
   "execution_count": 38,
   "metadata": {},
   "outputs": [
    {
     "ename": "TypeError",
     "evalue": "unhashable type: 'dict'",
     "output_type": "error",
     "traceback": [
      "\u001b[0;31m---------------------------------------------------------------------------\u001b[0m",
      "\u001b[0;31mTypeError\u001b[0m                                 Traceback (most recent call last)",
      "Input \u001b[0;32mIn [38]\u001b[0m, in \u001b[0;36m<cell line: 1>\u001b[0;34m()\u001b[0m\n\u001b[0;32m----> 1\u001b[0m \u001b[43moptimalOrder\u001b[49m\u001b[43m(\u001b[49m\u001b[38;5;241;43m5\u001b[39;49m\u001b[43m,\u001b[49m\u001b[43m \u001b[49m\u001b[43mdf\u001b[49m\u001b[43m)\u001b[49m\n",
      "Input \u001b[0;32mIn [37]\u001b[0m, in \u001b[0;36moptimalOrder\u001b[0;34m(desired_chicken_wings, df)\u001b[0m\n\u001b[1;32m     42\u001b[0m         solved_cache[best] \u001b[38;5;241m=\u001b[39m best\n\u001b[1;32m     43\u001b[0m         \u001b[38;5;28;01mreturn\u001b[39;00m best\n\u001b[0;32m---> 49\u001b[0m \u001b[43mpartition\u001b[49m\u001b[43m(\u001b[49m\u001b[43mdesired_chicken_wings\u001b[49m\u001b[43m)\u001b[49m\n",
      "Input \u001b[0;32mIn [37]\u001b[0m, in \u001b[0;36moptimalOrder.<locals>.partition\u001b[0;34m(count)\u001b[0m\n\u001b[1;32m     30\u001b[0m     partitions\u001b[38;5;241m.\u001b[39mappend({\n\u001b[1;32m     31\u001b[0m         \u001b[38;5;124m\"\u001b[39m\u001b[38;5;124mcost\u001b[39m\u001b[38;5;124m\"\u001b[39m: cost \u001b[38;5;241m+\u001b[39m remainder[\u001b[38;5;124m\"\u001b[39m\u001b[38;5;124mprice\u001b[39m\u001b[38;5;124m\"\u001b[39m],\n\u001b[1;32m     32\u001b[0m         \u001b[38;5;124m\"\u001b[39m\u001b[38;5;124mcomposition\u001b[39m\u001b[38;5;124m\"\u001b[39m: [\n\u001b[0;32m   (...)\u001b[0m\n\u001b[1;32m     38\u001b[0m         ]\n\u001b[1;32m     39\u001b[0m     })\n\u001b[1;32m     40\u001b[0m best \u001b[38;5;241m=\u001b[39m \u001b[38;5;28mmin\u001b[39m(partitions, key\u001b[38;5;241m=\u001b[39m \u001b[38;5;28;01mlambda\u001b[39;00m p: p[\u001b[38;5;124m\"\u001b[39m\u001b[38;5;124mcost\u001b[39m\u001b[38;5;124m\"\u001b[39m], default\u001b[38;5;241m=\u001b[39m\u001b[38;5;28;01mNone\u001b[39;00m)\n\u001b[0;32m---> 42\u001b[0m solved_cache[best] \u001b[38;5;241m=\u001b[39m best\n\u001b[1;32m     43\u001b[0m \u001b[38;5;28;01mreturn\u001b[39;00m best\n",
      "\u001b[0;31mTypeError\u001b[0m: unhashable type: 'dict'"
     ]
    }
   ],
   "source": [
    "optimalOrder(5, df)"
   ]
  }
 ],
 "metadata": {
  "kernelspec": {
   "display_name": "base",
   "language": "python",
   "name": "python3"
  },
  "language_info": {
   "codemirror_mode": {
    "name": "ipython",
    "version": 3
   },
   "file_extension": ".py",
   "mimetype": "text/x-python",
   "name": "python",
   "nbconvert_exporter": "python",
   "pygments_lexer": "ipython3",
   "version": "3.9.13"
  }
 },
 "nbformat": 4,
 "nbformat_minor": 2
}
